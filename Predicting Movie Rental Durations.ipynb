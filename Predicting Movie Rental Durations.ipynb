{
 "cells": [
  {
   "cell_type": "code",
   "execution_count": 1,
   "id": "b25dbe8c-ee7e-4a1c-8a55-a91e9aaba10b",
   "metadata": {},
   "outputs": [],
   "source": [
    "# Import Required Packages\n",
    "import pandas as pd\n",
    "import numpy as np \n",
    "\n",
    "from sklearn.model_selection import train_test_split\n",
    "from sklearn.metrics import mean_squared_error \n",
    "\n",
    "# For lasso\n",
    "from sklearn.linear_model import Lasso\n",
    "from sklearn.model_selection import train_test_split\n",
    "from sklearn.preprocessing import StandardScaler \n",
    "\n",
    "# Run OLS\n",
    "from sklearn.linear_model import LinearRegression\n",
    "from sklearn.metrics import mean_squared_error \n",
    "\n",
    "# Random forest\n",
    "from sklearn.ensemble import RandomForestRegressor\n",
    "from sklearn.model_selection import RandomizedSearchCV "
   ]
  },
  {
   "cell_type": "code",
   "execution_count": 2,
   "id": "e5ea6da2-e068-4452-aa86-6b705c816eb3",
   "metadata": {},
   "outputs": [],
   "source": [
    "# Read in data\n",
    "df_rental = pd.read_csv(\"rental_info.csv\") "
   ]
  },
  {
   "cell_type": "code",
   "execution_count": 3,
   "id": "069ec034-09bf-42ca-a663-6077ef437c66",
   "metadata": {},
   "outputs": [],
   "source": [
    "# Add information on rental duration\n",
    "df_rental[\"rental_length\"] = pd.to_datetime(df_rental[\"return_date\"]) - pd.to_datetime(df_rental[\"rental_date\"])\n",
    "df_rental[\"rental_length_days\"] = df_rental[\"rental_length\"].dt.days "
   ]
  },
  {
   "cell_type": "code",
   "execution_count": 4,
   "id": "bb632462-b0da-4f79-bb9e-2026a2c0f0de",
   "metadata": {},
   "outputs": [],
   "source": [
    "### Add dummy variables\n",
    "# Add dummy for deleted scenes\n",
    "df_rental[\"deleted_scenes\"] =  np.where(df_rental[\"special_features\"].str.contains(\"Deleted Scenes\"), 1, 0)\n",
    "# Add dummy for behind the scenes\n",
    "df_rental[\"behind_the_scenes\"] =  np.where(df_rental[\"special_features\"].str.contains(\"Behind the Scenes\"), 1, 0) "
   ]
  },
  {
   "cell_type": "code",
   "execution_count": 5,
   "id": "3318e823-d99a-495c-81a1-bc146ff8f8c2",
   "metadata": {},
   "outputs": [],
   "source": [
    "# Choose columns to drop\n",
    "cols_to_drop = [\"special_features\", \"rental_length\", \"rental_length_days\", \"rental_date\", \"return_date\"] "
   ]
  },
  {
   "cell_type": "code",
   "execution_count": 6,
   "id": "17e80efb-dc37-4845-98a1-7d9e3682b103",
   "metadata": {},
   "outputs": [],
   "source": [
    "# Split into feature and target sets\n",
    "X = df_rental.drop(cols_to_drop, axis=1)\n",
    "y = df_rental[\"rental_length_days\"]"
   ]
  },
  {
   "cell_type": "code",
   "execution_count": 7,
   "id": "701c4492-e3ff-4d8e-9bb6-ae288e21f37e",
   "metadata": {},
   "outputs": [],
   "source": [
    "# Further split into training and test data\n",
    "X_train,X_test,y_train,y_test = train_test_split(X, \n",
    "                                                 y, \n",
    "                                                 test_size=0.2, \n",
    "                                                 random_state=9)"
   ]
  },
  {
   "cell_type": "code",
   "execution_count": 8,
   "id": "42cf1fbf-f545-4718-bdac-5ca21894f7ef",
   "metadata": {},
   "outputs": [],
   "source": [
    "# Create the Lasso model\n",
    "lasso = Lasso(alpha=0.3, random_state=9) "
   ]
  },
  {
   "cell_type": "code",
   "execution_count": 9,
   "id": "c8f4fe24-4d0e-4648-a9e9-213330fb4245",
   "metadata": {},
   "outputs": [],
   "source": [
    "# Train the model and access the coefficients\n",
    "lasso.fit(X_train, y_train)\n",
    "lasso_coef = lasso.coef_"
   ]
  },
  {
   "cell_type": "code",
   "execution_count": 10,
   "id": "3fb239f6-f152-4c57-8834-7a92e80d0134",
   "metadata": {},
   "outputs": [],
   "source": [
    "# Perform feature selectino by choosing columns with positive coefficients\n",
    "X_lasso_train, X_lasso_test = X_train.iloc[:, lasso_coef > 0], X_test.iloc[:, lasso_coef > 0]"
   ]
  },
  {
   "cell_type": "code",
   "execution_count": 11,
   "id": "055e6ed9-b707-4eee-bc15-d3c5377a45fc",
   "metadata": {},
   "outputs": [],
   "source": [
    "# Run OLS models on lasso chosen regression\n",
    "ols = LinearRegression()\n",
    "ols = ols.fit(X_lasso_train, y_train)\n",
    "y_test_pred = ols.predict(X_lasso_test)\n",
    "mse_lin_reg_lasso = mean_squared_error(y_test, y_test_pred) "
   ]
  },
  {
   "cell_type": "code",
   "execution_count": 12,
   "id": "16769363-d31e-4514-8a3f-0221b5ee015b",
   "metadata": {},
   "outputs": [],
   "source": [
    "# Random forest hyperparameter space\n",
    "param_dist = {'n_estimators': np.arange(1,101,1),\n",
    "          'max_depth':np.arange(1,11,1)}"
   ]
  },
  {
   "cell_type": "code",
   "execution_count": 13,
   "id": "6f440597-e3f8-4141-902e-025ec172134b",
   "metadata": {},
   "outputs": [],
   "source": [
    "# Create a random forest regressor\n",
    "rf = RandomForestRegressor()"
   ]
  },
  {
   "cell_type": "code",
   "execution_count": 14,
   "id": "01930365-5bfa-4237-81f2-338fcab1ab9d",
   "metadata": {},
   "outputs": [],
   "source": [
    "# Use random search to find the best hyperparameters\n",
    "rand_search = RandomizedSearchCV(rf, \n",
    "                                 param_distributions=param_dist, \n",
    "                                 cv=5, \n",
    "                                 random_state=9)"
   ]
  },
  {
   "cell_type": "code",
   "execution_count": 15,
   "id": "57750264-b6fc-4802-ac7b-0882991846ec",
   "metadata": {},
   "outputs": [
    {
     "data": {
      "text/html": [
       "<style>#sk-container-id-1 {color: black;background-color: white;}#sk-container-id-1 pre{padding: 0;}#sk-container-id-1 div.sk-toggleable {background-color: white;}#sk-container-id-1 label.sk-toggleable__label {cursor: pointer;display: block;width: 100%;margin-bottom: 0;padding: 0.3em;box-sizing: border-box;text-align: center;}#sk-container-id-1 label.sk-toggleable__label-arrow:before {content: \"▸\";float: left;margin-right: 0.25em;color: #696969;}#sk-container-id-1 label.sk-toggleable__label-arrow:hover:before {color: black;}#sk-container-id-1 div.sk-estimator:hover label.sk-toggleable__label-arrow:before {color: black;}#sk-container-id-1 div.sk-toggleable__content {max-height: 0;max-width: 0;overflow: hidden;text-align: left;background-color: #f0f8ff;}#sk-container-id-1 div.sk-toggleable__content pre {margin: 0.2em;color: black;border-radius: 0.25em;background-color: #f0f8ff;}#sk-container-id-1 input.sk-toggleable__control:checked~div.sk-toggleable__content {max-height: 200px;max-width: 100%;overflow: auto;}#sk-container-id-1 input.sk-toggleable__control:checked~label.sk-toggleable__label-arrow:before {content: \"▾\";}#sk-container-id-1 div.sk-estimator input.sk-toggleable__control:checked~label.sk-toggleable__label {background-color: #d4ebff;}#sk-container-id-1 div.sk-label input.sk-toggleable__control:checked~label.sk-toggleable__label {background-color: #d4ebff;}#sk-container-id-1 input.sk-hidden--visually {border: 0;clip: rect(1px 1px 1px 1px);clip: rect(1px, 1px, 1px, 1px);height: 1px;margin: -1px;overflow: hidden;padding: 0;position: absolute;width: 1px;}#sk-container-id-1 div.sk-estimator {font-family: monospace;background-color: #f0f8ff;border: 1px dotted black;border-radius: 0.25em;box-sizing: border-box;margin-bottom: 0.5em;}#sk-container-id-1 div.sk-estimator:hover {background-color: #d4ebff;}#sk-container-id-1 div.sk-parallel-item::after {content: \"\";width: 100%;border-bottom: 1px solid gray;flex-grow: 1;}#sk-container-id-1 div.sk-label:hover label.sk-toggleable__label {background-color: #d4ebff;}#sk-container-id-1 div.sk-serial::before {content: \"\";position: absolute;border-left: 1px solid gray;box-sizing: border-box;top: 0;bottom: 0;left: 50%;z-index: 0;}#sk-container-id-1 div.sk-serial {display: flex;flex-direction: column;align-items: center;background-color: white;padding-right: 0.2em;padding-left: 0.2em;position: relative;}#sk-container-id-1 div.sk-item {position: relative;z-index: 1;}#sk-container-id-1 div.sk-parallel {display: flex;align-items: stretch;justify-content: center;background-color: white;position: relative;}#sk-container-id-1 div.sk-item::before, #sk-container-id-1 div.sk-parallel-item::before {content: \"\";position: absolute;border-left: 1px solid gray;box-sizing: border-box;top: 0;bottom: 0;left: 50%;z-index: -1;}#sk-container-id-1 div.sk-parallel-item {display: flex;flex-direction: column;z-index: 1;position: relative;background-color: white;}#sk-container-id-1 div.sk-parallel-item:first-child::after {align-self: flex-end;width: 50%;}#sk-container-id-1 div.sk-parallel-item:last-child::after {align-self: flex-start;width: 50%;}#sk-container-id-1 div.sk-parallel-item:only-child::after {width: 0;}#sk-container-id-1 div.sk-dashed-wrapped {border: 1px dashed gray;margin: 0 0.4em 0.5em 0.4em;box-sizing: border-box;padding-bottom: 0.4em;background-color: white;}#sk-container-id-1 div.sk-label label {font-family: monospace;font-weight: bold;display: inline-block;line-height: 1.2em;}#sk-container-id-1 div.sk-label-container {text-align: center;}#sk-container-id-1 div.sk-container {/* jupyter's `normalize.less` sets `[hidden] { display: none; }` but bootstrap.min.css set `[hidden] { display: none !important; }` so we also need the `!important` here to be able to override the default hidden behavior on the sphinx rendered scikit-learn.org. See: https://github.com/scikit-learn/scikit-learn/issues/21755 */display: inline-block !important;position: relative;}#sk-container-id-1 div.sk-text-repr-fallback {display: none;}</style><div id=\"sk-container-id-1\" class=\"sk-top-container\"><div class=\"sk-text-repr-fallback\"><pre>RandomizedSearchCV(cv=5, estimator=RandomForestRegressor(),\n",
       "                   param_distributions={&#x27;max_depth&#x27;: array([ 1,  2,  3,  4,  5,  6,  7,  8,  9, 10]),\n",
       "                                        &#x27;n_estimators&#x27;: array([  1,   2,   3,   4,   5,   6,   7,   8,   9,  10,  11,  12,  13,\n",
       "        14,  15,  16,  17,  18,  19,  20,  21,  22,  23,  24,  25,  26,\n",
       "        27,  28,  29,  30,  31,  32,  33,  34,  35,  36,  37,  38,  39,\n",
       "        40,  41,  42,  43,  44,  45,  46,  47,  48,  49,  50,  51,  52,\n",
       "        53,  54,  55,  56,  57,  58,  59,  60,  61,  62,  63,  64,  65,\n",
       "        66,  67,  68,  69,  70,  71,  72,  73,  74,  75,  76,  77,  78,\n",
       "        79,  80,  81,  82,  83,  84,  85,  86,  87,  88,  89,  90,  91,\n",
       "        92,  93,  94,  95,  96,  97,  98,  99, 100])},\n",
       "                   random_state=9)</pre><b>In a Jupyter environment, please rerun this cell to show the HTML representation or trust the notebook. <br />On GitHub, the HTML representation is unable to render, please try loading this page with nbviewer.org.</b></div><div class=\"sk-container\" hidden><div class=\"sk-item sk-dashed-wrapped\"><div class=\"sk-label-container\"><div class=\"sk-label sk-toggleable\"><input class=\"sk-toggleable__control sk-hidden--visually\" id=\"sk-estimator-id-1\" type=\"checkbox\" ><label for=\"sk-estimator-id-1\" class=\"sk-toggleable__label sk-toggleable__label-arrow\">RandomizedSearchCV</label><div class=\"sk-toggleable__content\"><pre>RandomizedSearchCV(cv=5, estimator=RandomForestRegressor(),\n",
       "                   param_distributions={&#x27;max_depth&#x27;: array([ 1,  2,  3,  4,  5,  6,  7,  8,  9, 10]),\n",
       "                                        &#x27;n_estimators&#x27;: array([  1,   2,   3,   4,   5,   6,   7,   8,   9,  10,  11,  12,  13,\n",
       "        14,  15,  16,  17,  18,  19,  20,  21,  22,  23,  24,  25,  26,\n",
       "        27,  28,  29,  30,  31,  32,  33,  34,  35,  36,  37,  38,  39,\n",
       "        40,  41,  42,  43,  44,  45,  46,  47,  48,  49,  50,  51,  52,\n",
       "        53,  54,  55,  56,  57,  58,  59,  60,  61,  62,  63,  64,  65,\n",
       "        66,  67,  68,  69,  70,  71,  72,  73,  74,  75,  76,  77,  78,\n",
       "        79,  80,  81,  82,  83,  84,  85,  86,  87,  88,  89,  90,  91,\n",
       "        92,  93,  94,  95,  96,  97,  98,  99, 100])},\n",
       "                   random_state=9)</pre></div></div></div><div class=\"sk-parallel\"><div class=\"sk-parallel-item\"><div class=\"sk-item\"><div class=\"sk-label-container\"><div class=\"sk-label sk-toggleable\"><input class=\"sk-toggleable__control sk-hidden--visually\" id=\"sk-estimator-id-2\" type=\"checkbox\" ><label for=\"sk-estimator-id-2\" class=\"sk-toggleable__label sk-toggleable__label-arrow\">estimator: RandomForestRegressor</label><div class=\"sk-toggleable__content\"><pre>RandomForestRegressor()</pre></div></div></div><div class=\"sk-serial\"><div class=\"sk-item\"><div class=\"sk-estimator sk-toggleable\"><input class=\"sk-toggleable__control sk-hidden--visually\" id=\"sk-estimator-id-3\" type=\"checkbox\" ><label for=\"sk-estimator-id-3\" class=\"sk-toggleable__label sk-toggleable__label-arrow\">RandomForestRegressor</label><div class=\"sk-toggleable__content\"><pre>RandomForestRegressor()</pre></div></div></div></div></div></div></div></div></div></div>"
      ],
      "text/plain": [
       "RandomizedSearchCV(cv=5, estimator=RandomForestRegressor(),\n",
       "                   param_distributions={'max_depth': array([ 1,  2,  3,  4,  5,  6,  7,  8,  9, 10]),\n",
       "                                        'n_estimators': array([  1,   2,   3,   4,   5,   6,   7,   8,   9,  10,  11,  12,  13,\n",
       "        14,  15,  16,  17,  18,  19,  20,  21,  22,  23,  24,  25,  26,\n",
       "        27,  28,  29,  30,  31,  32,  33,  34,  35,  36,  37,  38,  39,\n",
       "        40,  41,  42,  43,  44,  45,  46,  47,  48,  49,  50,  51,  52,\n",
       "        53,  54,  55,  56,  57,  58,  59,  60,  61,  62,  63,  64,  65,\n",
       "        66,  67,  68,  69,  70,  71,  72,  73,  74,  75,  76,  77,  78,\n",
       "        79,  80,  81,  82,  83,  84,  85,  86,  87,  88,  89,  90,  91,\n",
       "        92,  93,  94,  95,  96,  97,  98,  99, 100])},\n",
       "                   random_state=9)"
      ]
     },
     "execution_count": 15,
     "metadata": {},
     "output_type": "execute_result"
    }
   ],
   "source": [
    "# Fit the random search object to the data\n",
    "rand_search.fit(X_train, y_train)"
   ]
  },
  {
   "cell_type": "code",
   "execution_count": 16,
   "id": "86456455-c50d-47fa-9a67-e4e028298763",
   "metadata": {},
   "outputs": [],
   "source": [
    "# Create a variable for the best hyper param\n",
    "hyper_params = rand_search.best_params_"
   ]
  },
  {
   "cell_type": "code",
   "execution_count": 17,
   "id": "fd6cce21-1588-48b6-95a5-0ff53929b961",
   "metadata": {},
   "outputs": [],
   "source": [
    "# Run the random forest on the chosen hyper parameters\n",
    "rf = RandomForestRegressor(n_estimators=hyper_params[\"n_estimators\"], \n",
    "                           max_depth=hyper_params[\"max_depth\"], \n",
    "                           random_state=9)"
   ]
  },
  {
   "cell_type": "code",
   "execution_count": 18,
   "id": "31197afd-05b0-44e5-984e-f5b061edb41b",
   "metadata": {},
   "outputs": [],
   "source": [
    "rf.fit(X_train,y_train)\n",
    "rf_pred = rf.predict(X_test)\n",
    "mse_random_forest= mean_squared_error(y_test, rf_pred)"
   ]
  },
  {
   "cell_type": "code",
   "execution_count": 23,
   "id": "90244056-9bc4-44c6-aae6-516ea7bc7fc0",
   "metadata": {},
   "outputs": [
    {
     "data": {
      "text/plain": [
       "(RandomForestRegressor(max_depth=10, n_estimators=51, random_state=9),\n",
       " 2.225667528098759)"
      ]
     },
     "execution_count": 23,
     "metadata": {},
     "output_type": "execute_result"
    }
   ],
   "source": [
    "# Random forest gives lowest MSE so:\n",
    "best_model = rf\n",
    "best_mse = mse_random_forest \n",
    "best_model, best_mse"
   ]
  }
 ],
 "metadata": {
  "kernelspec": {
   "display_name": "Python 3 (ipykernel)",
   "language": "python",
   "name": "python3"
  },
  "language_info": {
   "codemirror_mode": {
    "name": "ipython",
    "version": 3
   },
   "file_extension": ".py",
   "mimetype": "text/x-python",
   "name": "python",
   "nbconvert_exporter": "python",
   "pygments_lexer": "ipython3",
   "version": "3.11.7"
  }
 },
 "nbformat": 4,
 "nbformat_minor": 5
}
